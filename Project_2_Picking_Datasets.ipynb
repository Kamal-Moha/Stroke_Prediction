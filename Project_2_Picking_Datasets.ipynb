{
  "nbformat": 4,
  "nbformat_minor": 0,
  "metadata": {
    "colab": {
      "provenance": [],
      "mount_file_id": "1xN6_ky7a0dJs2O5zORK6nG6wsXki6nOm",
      "authorship_tag": "ABX9TyMOmBI+Xc8OUGk7zZozkde+",
      "include_colab_link": true
    },
    "kernelspec": {
      "name": "python3",
      "display_name": "Python 3"
    },
    "language_info": {
      "name": "python"
    }
  },
  "cells": [
    {
      "cell_type": "markdown",
      "metadata": {
        "id": "view-in-github",
        "colab_type": "text"
      },
      "source": [
        "<a href=\"https://colab.research.google.com/github/Kamal-Moha/Stroke_Prediction/blob/main/Project_2_Picking_Datasets.ipynb\" target=\"_parent\"><img src=\"https://colab.research.google.com/assets/colab-badge.svg\" alt=\"Open In Colab\"/></a>"
      ]
    },
    {
      "cell_type": "code",
      "execution_count": 1,
      "metadata": {
        "id": "de13yAo118k1"
      },
      "outputs": [],
      "source": [
        "import pandas as pd"
      ]
    },
    {
      "cell_type": "markdown",
      "source": [
        "# **First Choice of Dataset**"
      ],
      "metadata": {
        "id": "PRBzt5D27W0z"
      }
    },
    {
      "cell_type": "markdown",
      "source": [
        "**Stroke Prediction Dataset**\n",
        "\n",
        "Source:\n",
        "\n",
        "I got this dataset from Kaggle. Here's the link to the dataset\n",
        "\n",
        "\n",
        "[Dataset source](https://www.kaggle.com/datasets/fedesoriano/stroke-prediction-dataset)\n",
        "\n"
      ],
      "metadata": {
        "id": "lOKcjera7Wnu"
      }
    },
    {
      "cell_type": "markdown",
      "source": [
        "This dataset is used to predict whether a patient is likely to get stroke based on the input parameters like gender, age, various diseases, and smoking status. Each row in the data provides relavant information about the patient."
      ],
      "metadata": {
        "id": "MTKT2unr7WYp"
      }
    },
    {
      "cell_type": "code",
      "source": [
        "# Let's have a look at the dataset\n",
        "path = '/content/drive/MyDrive/CODING DOJO DS BOOTCAMP/PROJECTS/PROJECT 2/Stroke Prediction Dataset/healthcare-dataset-stroke-data.csv'\n",
        "df = pd.read_csv(path)\n",
        "df.head()"
      ],
      "metadata": {
        "colab": {
          "base_uri": "https://localhost:8080/",
          "height": 305
        },
        "id": "8XWV5wVc7V8g",
        "outputId": "282abef2-9aa8-4a30-9166-0c4716f3c4ee"
      },
      "execution_count": 5,
      "outputs": [
        {
          "output_type": "execute_result",
          "data": {
            "text/plain": [
              "      id  gender   age  hypertension  heart_disease ever_married  \\\n",
              "0   9046    Male  67.0             0              1          Yes   \n",
              "1  51676  Female  61.0             0              0          Yes   \n",
              "2  31112    Male  80.0             0              1          Yes   \n",
              "3  60182  Female  49.0             0              0          Yes   \n",
              "4   1665  Female  79.0             1              0          Yes   \n",
              "\n",
              "       work_type Residence_type  avg_glucose_level   bmi   smoking_status  \\\n",
              "0        Private          Urban             228.69  36.6  formerly smoked   \n",
              "1  Self-employed          Rural             202.21   NaN     never smoked   \n",
              "2        Private          Rural             105.92  32.5     never smoked   \n",
              "3        Private          Urban             171.23  34.4           smokes   \n",
              "4  Self-employed          Rural             174.12  24.0     never smoked   \n",
              "\n",
              "   stroke  \n",
              "0       1  \n",
              "1       1  \n",
              "2       1  \n",
              "3       1  \n",
              "4       1  "
            ],
            "text/html": [
              "\n",
              "  <div id=\"df-2e7c7674-c25e-4e70-bba0-8ab937a26e0c\">\n",
              "    <div class=\"colab-df-container\">\n",
              "      <div>\n",
              "<style scoped>\n",
              "    .dataframe tbody tr th:only-of-type {\n",
              "        vertical-align: middle;\n",
              "    }\n",
              "\n",
              "    .dataframe tbody tr th {\n",
              "        vertical-align: top;\n",
              "    }\n",
              "\n",
              "    .dataframe thead th {\n",
              "        text-align: right;\n",
              "    }\n",
              "</style>\n",
              "<table border=\"1\" class=\"dataframe\">\n",
              "  <thead>\n",
              "    <tr style=\"text-align: right;\">\n",
              "      <th></th>\n",
              "      <th>id</th>\n",
              "      <th>gender</th>\n",
              "      <th>age</th>\n",
              "      <th>hypertension</th>\n",
              "      <th>heart_disease</th>\n",
              "      <th>ever_married</th>\n",
              "      <th>work_type</th>\n",
              "      <th>Residence_type</th>\n",
              "      <th>avg_glucose_level</th>\n",
              "      <th>bmi</th>\n",
              "      <th>smoking_status</th>\n",
              "      <th>stroke</th>\n",
              "    </tr>\n",
              "  </thead>\n",
              "  <tbody>\n",
              "    <tr>\n",
              "      <th>0</th>\n",
              "      <td>9046</td>\n",
              "      <td>Male</td>\n",
              "      <td>67.0</td>\n",
              "      <td>0</td>\n",
              "      <td>1</td>\n",
              "      <td>Yes</td>\n",
              "      <td>Private</td>\n",
              "      <td>Urban</td>\n",
              "      <td>228.69</td>\n",
              "      <td>36.6</td>\n",
              "      <td>formerly smoked</td>\n",
              "      <td>1</td>\n",
              "    </tr>\n",
              "    <tr>\n",
              "      <th>1</th>\n",
              "      <td>51676</td>\n",
              "      <td>Female</td>\n",
              "      <td>61.0</td>\n",
              "      <td>0</td>\n",
              "      <td>0</td>\n",
              "      <td>Yes</td>\n",
              "      <td>Self-employed</td>\n",
              "      <td>Rural</td>\n",
              "      <td>202.21</td>\n",
              "      <td>NaN</td>\n",
              "      <td>never smoked</td>\n",
              "      <td>1</td>\n",
              "    </tr>\n",
              "    <tr>\n",
              "      <th>2</th>\n",
              "      <td>31112</td>\n",
              "      <td>Male</td>\n",
              "      <td>80.0</td>\n",
              "      <td>0</td>\n",
              "      <td>1</td>\n",
              "      <td>Yes</td>\n",
              "      <td>Private</td>\n",
              "      <td>Rural</td>\n",
              "      <td>105.92</td>\n",
              "      <td>32.5</td>\n",
              "      <td>never smoked</td>\n",
              "      <td>1</td>\n",
              "    </tr>\n",
              "    <tr>\n",
              "      <th>3</th>\n",
              "      <td>60182</td>\n",
              "      <td>Female</td>\n",
              "      <td>49.0</td>\n",
              "      <td>0</td>\n",
              "      <td>0</td>\n",
              "      <td>Yes</td>\n",
              "      <td>Private</td>\n",
              "      <td>Urban</td>\n",
              "      <td>171.23</td>\n",
              "      <td>34.4</td>\n",
              "      <td>smokes</td>\n",
              "      <td>1</td>\n",
              "    </tr>\n",
              "    <tr>\n",
              "      <th>4</th>\n",
              "      <td>1665</td>\n",
              "      <td>Female</td>\n",
              "      <td>79.0</td>\n",
              "      <td>1</td>\n",
              "      <td>0</td>\n",
              "      <td>Yes</td>\n",
              "      <td>Self-employed</td>\n",
              "      <td>Rural</td>\n",
              "      <td>174.12</td>\n",
              "      <td>24.0</td>\n",
              "      <td>never smoked</td>\n",
              "      <td>1</td>\n",
              "    </tr>\n",
              "  </tbody>\n",
              "</table>\n",
              "</div>\n",
              "      <button class=\"colab-df-convert\" onclick=\"convertToInteractive('df-2e7c7674-c25e-4e70-bba0-8ab937a26e0c')\"\n",
              "              title=\"Convert this dataframe to an interactive table.\"\n",
              "              style=\"display:none;\">\n",
              "        \n",
              "  <svg xmlns=\"http://www.w3.org/2000/svg\" height=\"24px\"viewBox=\"0 0 24 24\"\n",
              "       width=\"24px\">\n",
              "    <path d=\"M0 0h24v24H0V0z\" fill=\"none\"/>\n",
              "    <path d=\"M18.56 5.44l.94 2.06.94-2.06 2.06-.94-2.06-.94-.94-2.06-.94 2.06-2.06.94zm-11 1L8.5 8.5l.94-2.06 2.06-.94-2.06-.94L8.5 2.5l-.94 2.06-2.06.94zm10 10l.94 2.06.94-2.06 2.06-.94-2.06-.94-.94-2.06-.94 2.06-2.06.94z\"/><path d=\"M17.41 7.96l-1.37-1.37c-.4-.4-.92-.59-1.43-.59-.52 0-1.04.2-1.43.59L10.3 9.45l-7.72 7.72c-.78.78-.78 2.05 0 2.83L4 21.41c.39.39.9.59 1.41.59.51 0 1.02-.2 1.41-.59l7.78-7.78 2.81-2.81c.8-.78.8-2.07 0-2.86zM5.41 20L4 18.59l7.72-7.72 1.47 1.35L5.41 20z\"/>\n",
              "  </svg>\n",
              "      </button>\n",
              "      \n",
              "  <style>\n",
              "    .colab-df-container {\n",
              "      display:flex;\n",
              "      flex-wrap:wrap;\n",
              "      gap: 12px;\n",
              "    }\n",
              "\n",
              "    .colab-df-convert {\n",
              "      background-color: #E8F0FE;\n",
              "      border: none;\n",
              "      border-radius: 50%;\n",
              "      cursor: pointer;\n",
              "      display: none;\n",
              "      fill: #1967D2;\n",
              "      height: 32px;\n",
              "      padding: 0 0 0 0;\n",
              "      width: 32px;\n",
              "    }\n",
              "\n",
              "    .colab-df-convert:hover {\n",
              "      background-color: #E2EBFA;\n",
              "      box-shadow: 0px 1px 2px rgba(60, 64, 67, 0.3), 0px 1px 3px 1px rgba(60, 64, 67, 0.15);\n",
              "      fill: #174EA6;\n",
              "    }\n",
              "\n",
              "    [theme=dark] .colab-df-convert {\n",
              "      background-color: #3B4455;\n",
              "      fill: #D2E3FC;\n",
              "    }\n",
              "\n",
              "    [theme=dark] .colab-df-convert:hover {\n",
              "      background-color: #434B5C;\n",
              "      box-shadow: 0px 1px 3px 1px rgba(0, 0, 0, 0.15);\n",
              "      filter: drop-shadow(0px 1px 2px rgba(0, 0, 0, 0.3));\n",
              "      fill: #FFFFFF;\n",
              "    }\n",
              "  </style>\n",
              "\n",
              "      <script>\n",
              "        const buttonEl =\n",
              "          document.querySelector('#df-2e7c7674-c25e-4e70-bba0-8ab937a26e0c button.colab-df-convert');\n",
              "        buttonEl.style.display =\n",
              "          google.colab.kernel.accessAllowed ? 'block' : 'none';\n",
              "\n",
              "        async function convertToInteractive(key) {\n",
              "          const element = document.querySelector('#df-2e7c7674-c25e-4e70-bba0-8ab937a26e0c');\n",
              "          const dataTable =\n",
              "            await google.colab.kernel.invokeFunction('convertToInteractive',\n",
              "                                                     [key], {});\n",
              "          if (!dataTable) return;\n",
              "\n",
              "          const docLinkHtml = 'Like what you see? Visit the ' +\n",
              "            '<a target=\"_blank\" href=https://colab.research.google.com/notebooks/data_table.ipynb>data table notebook</a>'\n",
              "            + ' to learn more about interactive tables.';\n",
              "          element.innerHTML = '';\n",
              "          dataTable['output_type'] = 'display_data';\n",
              "          await google.colab.output.renderOutput(dataTable, element);\n",
              "          const docLink = document.createElement('div');\n",
              "          docLink.innerHTML = docLinkHtml;\n",
              "          element.appendChild(docLink);\n",
              "        }\n",
              "      </script>\n",
              "    </div>\n",
              "  </div>\n",
              "  "
            ]
          },
          "metadata": {},
          "execution_count": 5
        }
      ]
    },
    {
      "cell_type": "markdown",
      "source": [
        "The target is the `stoke` column which has 1 if the patient had a stroke and 0 if not."
      ],
      "metadata": {
        "id": "KR8TRcMJ8wQR"
      }
    },
    {
      "cell_type": "markdown",
      "source": [
        "**Is this a classification or regression problem?**\n",
        "\n",
        "This is a Binary Classification problem having only 2 options in our target vector.\n",
        "\n",
        "1 if the patient had a stroke 0 if not."
      ],
      "metadata": {
        "id": "0AH3l4CF7Vb4"
      }
    },
    {
      "cell_type": "markdown",
      "source": [
        "**How many features?**"
      ],
      "metadata": {
        "id": "9jCFdhtkBKr1"
      }
    },
    {
      "cell_type": "code",
      "source": [
        "df.columns"
      ],
      "metadata": {
        "colab": {
          "base_uri": "https://localhost:8080/"
        },
        "id": "GVpYqSuBDdfh",
        "outputId": "22e7ee20-bd85-4332-927c-90119257d21b"
      },
      "execution_count": 8,
      "outputs": [
        {
          "output_type": "execute_result",
          "data": {
            "text/plain": [
              "Index(['id', 'gender', 'age', 'hypertension', 'heart_disease', 'ever_married',\n",
              "       'work_type', 'Residence_type', 'avg_glucose_level', 'bmi',\n",
              "       'smoking_status', 'stroke'],\n",
              "      dtype='object')"
            ]
          },
          "metadata": {},
          "execution_count": 8
        }
      ]
    },
    {
      "cell_type": "markdown",
      "source": [
        "There are 11 features that are going to affect our modeling of this dataset"
      ],
      "metadata": {
        "id": "pZmrL38lDLqZ"
      }
    },
    {
      "cell_type": "markdown",
      "source": [
        "**How many rows of data.**"
      ],
      "metadata": {
        "id": "d9xMoGbABiji"
      }
    },
    {
      "cell_type": "code",
      "source": [
        "df.shape"
      ],
      "metadata": {
        "colab": {
          "base_uri": "https://localhost:8080/"
        },
        "id": "HCM5ujuRBkcH",
        "outputId": "ed212ee8-2749-4280-94e7-723de47debeb"
      },
      "execution_count": 7,
      "outputs": [
        {
          "output_type": "execute_result",
          "data": {
            "text/plain": [
              "(5110, 12)"
            ]
          },
          "metadata": {},
          "execution_count": 7
        }
      ]
    },
    {
      "cell_type": "markdown",
      "source": [
        "There are 5110 rows in our data"
      ],
      "metadata": {
        "id": "yA5wPeBDBnSW"
      }
    },
    {
      "cell_type": "markdown",
      "source": [
        "**Foreseeable Challenges**"
      ],
      "metadata": {
        "id": "3Tqsw8FKCsXf"
      }
    },
    {
      "cell_type": "markdown",
      "source": [
        "There could be duplicates, missing values, outliers, etc in our data which could exploring & modeling challenging."
      ],
      "metadata": {
        "id": "XoHiq76tCGLt"
      }
    },
    {
      "cell_type": "code",
      "source": [],
      "metadata": {
        "id": "wZqYmTxGMjQn"
      },
      "execution_count": null,
      "outputs": []
    },
    {
      "cell_type": "markdown",
      "source": [
        "# **Second Choice of Dataset**"
      ],
      "metadata": {
        "id": "cAejLD_Y3neG"
      }
    },
    {
      "cell_type": "markdown",
      "source": [
        "**Predicting Flight Fares**"
      ],
      "metadata": {
        "id": "kufQa6GB3r5I"
      }
    },
    {
      "cell_type": "markdown",
      "source": [
        "Source:\n",
        "\n",
        "I got this dataset from Kaggle. Here's the link to the dataset\n",
        "\n",
        "[Dataset source](https://www.kaggle.com/datasets/yashdharme36/airfare-ml-predicting-flight-fares)"
      ],
      "metadata": {
        "id": "u4az9-uj4Ay0"
      }
    },
    {
      "cell_type": "markdown",
      "source": [
        "A dataset for predicting the fare of a flight. By analyzing patterns in flight fares over time, users can identify the best times to book tickets and potentially save money."
      ],
      "metadata": {
        "id": "_fd4wWFn4AvW"
      }
    },
    {
      "cell_type": "code",
      "source": [
        "path = '/content/drive/MyDrive/CODING DOJO DS BOOTCAMP/PROJECTS/PROJECT 2/AirFare Prediction/Cleaned_dataset.csv'\n",
        "df = pd.read_csv(path)\n",
        "df.head()"
      ],
      "metadata": {
        "colab": {
          "base_uri": "https://localhost:8080/",
          "height": 357
        },
        "id": "z6WZ_LNW2M0E",
        "outputId": "c5229928-7eee-4f26-83cd-54251c516730"
      },
      "execution_count": 9,
      "outputs": [
        {
          "output_type": "execute_result",
          "data": {
            "text/plain": [
              "  Date_of_journey Journey_day    Airline Flight_code    Class Source  \\\n",
              "0      2023-01-16      Monday   SpiceJet     SG-8169  Economy  Delhi   \n",
              "1      2023-01-16      Monday     Indigo     6E-2519  Economy  Delhi   \n",
              "2      2023-01-16      Monday   GO FIRST      G8-354  Economy  Delhi   \n",
              "3      2023-01-16      Monday   SpiceJet     SG-8709  Economy  Delhi   \n",
              "4      2023-01-16      Monday  Air India      AI-805  Economy  Delhi   \n",
              "\n",
              "    Departure Total_stops      Arrival Destination  Duration_in_hours  \\\n",
              "0  After 6 PM    non-stop   After 6 PM      Mumbai             2.0833   \n",
              "1  After 6 PM    non-stop  Before 6 AM      Mumbai             2.3333   \n",
              "2  After 6 PM    non-stop  Before 6 AM      Mumbai             2.1667   \n",
              "3  After 6 PM    non-stop   After 6 PM      Mumbai             2.0833   \n",
              "4  After 6 PM    non-stop   After 6 PM      Mumbai             2.1667   \n",
              "\n",
              "   Days_left  Fare  \n",
              "0          1  5335  \n",
              "1          1  5899  \n",
              "2          1  5801  \n",
              "3          1  5794  \n",
              "4          1  5955  "
            ],
            "text/html": [
              "\n",
              "  <div id=\"df-03edd56a-982b-40ec-b15c-aa18eec2e95d\">\n",
              "    <div class=\"colab-df-container\">\n",
              "      <div>\n",
              "<style scoped>\n",
              "    .dataframe tbody tr th:only-of-type {\n",
              "        vertical-align: middle;\n",
              "    }\n",
              "\n",
              "    .dataframe tbody tr th {\n",
              "        vertical-align: top;\n",
              "    }\n",
              "\n",
              "    .dataframe thead th {\n",
              "        text-align: right;\n",
              "    }\n",
              "</style>\n",
              "<table border=\"1\" class=\"dataframe\">\n",
              "  <thead>\n",
              "    <tr style=\"text-align: right;\">\n",
              "      <th></th>\n",
              "      <th>Date_of_journey</th>\n",
              "      <th>Journey_day</th>\n",
              "      <th>Airline</th>\n",
              "      <th>Flight_code</th>\n",
              "      <th>Class</th>\n",
              "      <th>Source</th>\n",
              "      <th>Departure</th>\n",
              "      <th>Total_stops</th>\n",
              "      <th>Arrival</th>\n",
              "      <th>Destination</th>\n",
              "      <th>Duration_in_hours</th>\n",
              "      <th>Days_left</th>\n",
              "      <th>Fare</th>\n",
              "    </tr>\n",
              "  </thead>\n",
              "  <tbody>\n",
              "    <tr>\n",
              "      <th>0</th>\n",
              "      <td>2023-01-16</td>\n",
              "      <td>Monday</td>\n",
              "      <td>SpiceJet</td>\n",
              "      <td>SG-8169</td>\n",
              "      <td>Economy</td>\n",
              "      <td>Delhi</td>\n",
              "      <td>After 6 PM</td>\n",
              "      <td>non-stop</td>\n",
              "      <td>After 6 PM</td>\n",
              "      <td>Mumbai</td>\n",
              "      <td>2.0833</td>\n",
              "      <td>1</td>\n",
              "      <td>5335</td>\n",
              "    </tr>\n",
              "    <tr>\n",
              "      <th>1</th>\n",
              "      <td>2023-01-16</td>\n",
              "      <td>Monday</td>\n",
              "      <td>Indigo</td>\n",
              "      <td>6E-2519</td>\n",
              "      <td>Economy</td>\n",
              "      <td>Delhi</td>\n",
              "      <td>After 6 PM</td>\n",
              "      <td>non-stop</td>\n",
              "      <td>Before 6 AM</td>\n",
              "      <td>Mumbai</td>\n",
              "      <td>2.3333</td>\n",
              "      <td>1</td>\n",
              "      <td>5899</td>\n",
              "    </tr>\n",
              "    <tr>\n",
              "      <th>2</th>\n",
              "      <td>2023-01-16</td>\n",
              "      <td>Monday</td>\n",
              "      <td>GO FIRST</td>\n",
              "      <td>G8-354</td>\n",
              "      <td>Economy</td>\n",
              "      <td>Delhi</td>\n",
              "      <td>After 6 PM</td>\n",
              "      <td>non-stop</td>\n",
              "      <td>Before 6 AM</td>\n",
              "      <td>Mumbai</td>\n",
              "      <td>2.1667</td>\n",
              "      <td>1</td>\n",
              "      <td>5801</td>\n",
              "    </tr>\n",
              "    <tr>\n",
              "      <th>3</th>\n",
              "      <td>2023-01-16</td>\n",
              "      <td>Monday</td>\n",
              "      <td>SpiceJet</td>\n",
              "      <td>SG-8709</td>\n",
              "      <td>Economy</td>\n",
              "      <td>Delhi</td>\n",
              "      <td>After 6 PM</td>\n",
              "      <td>non-stop</td>\n",
              "      <td>After 6 PM</td>\n",
              "      <td>Mumbai</td>\n",
              "      <td>2.0833</td>\n",
              "      <td>1</td>\n",
              "      <td>5794</td>\n",
              "    </tr>\n",
              "    <tr>\n",
              "      <th>4</th>\n",
              "      <td>2023-01-16</td>\n",
              "      <td>Monday</td>\n",
              "      <td>Air India</td>\n",
              "      <td>AI-805</td>\n",
              "      <td>Economy</td>\n",
              "      <td>Delhi</td>\n",
              "      <td>After 6 PM</td>\n",
              "      <td>non-stop</td>\n",
              "      <td>After 6 PM</td>\n",
              "      <td>Mumbai</td>\n",
              "      <td>2.1667</td>\n",
              "      <td>1</td>\n",
              "      <td>5955</td>\n",
              "    </tr>\n",
              "  </tbody>\n",
              "</table>\n",
              "</div>\n",
              "      <button class=\"colab-df-convert\" onclick=\"convertToInteractive('df-03edd56a-982b-40ec-b15c-aa18eec2e95d')\"\n",
              "              title=\"Convert this dataframe to an interactive table.\"\n",
              "              style=\"display:none;\">\n",
              "        \n",
              "  <svg xmlns=\"http://www.w3.org/2000/svg\" height=\"24px\"viewBox=\"0 0 24 24\"\n",
              "       width=\"24px\">\n",
              "    <path d=\"M0 0h24v24H0V0z\" fill=\"none\"/>\n",
              "    <path d=\"M18.56 5.44l.94 2.06.94-2.06 2.06-.94-2.06-.94-.94-2.06-.94 2.06-2.06.94zm-11 1L8.5 8.5l.94-2.06 2.06-.94-2.06-.94L8.5 2.5l-.94 2.06-2.06.94zm10 10l.94 2.06.94-2.06 2.06-.94-2.06-.94-.94-2.06-.94 2.06-2.06.94z\"/><path d=\"M17.41 7.96l-1.37-1.37c-.4-.4-.92-.59-1.43-.59-.52 0-1.04.2-1.43.59L10.3 9.45l-7.72 7.72c-.78.78-.78 2.05 0 2.83L4 21.41c.39.39.9.59 1.41.59.51 0 1.02-.2 1.41-.59l7.78-7.78 2.81-2.81c.8-.78.8-2.07 0-2.86zM5.41 20L4 18.59l7.72-7.72 1.47 1.35L5.41 20z\"/>\n",
              "  </svg>\n",
              "      </button>\n",
              "      \n",
              "  <style>\n",
              "    .colab-df-container {\n",
              "      display:flex;\n",
              "      flex-wrap:wrap;\n",
              "      gap: 12px;\n",
              "    }\n",
              "\n",
              "    .colab-df-convert {\n",
              "      background-color: #E8F0FE;\n",
              "      border: none;\n",
              "      border-radius: 50%;\n",
              "      cursor: pointer;\n",
              "      display: none;\n",
              "      fill: #1967D2;\n",
              "      height: 32px;\n",
              "      padding: 0 0 0 0;\n",
              "      width: 32px;\n",
              "    }\n",
              "\n",
              "    .colab-df-convert:hover {\n",
              "      background-color: #E2EBFA;\n",
              "      box-shadow: 0px 1px 2px rgba(60, 64, 67, 0.3), 0px 1px 3px 1px rgba(60, 64, 67, 0.15);\n",
              "      fill: #174EA6;\n",
              "    }\n",
              "\n",
              "    [theme=dark] .colab-df-convert {\n",
              "      background-color: #3B4455;\n",
              "      fill: #D2E3FC;\n",
              "    }\n",
              "\n",
              "    [theme=dark] .colab-df-convert:hover {\n",
              "      background-color: #434B5C;\n",
              "      box-shadow: 0px 1px 3px 1px rgba(0, 0, 0, 0.15);\n",
              "      filter: drop-shadow(0px 1px 2px rgba(0, 0, 0, 0.3));\n",
              "      fill: #FFFFFF;\n",
              "    }\n",
              "  </style>\n",
              "\n",
              "      <script>\n",
              "        const buttonEl =\n",
              "          document.querySelector('#df-03edd56a-982b-40ec-b15c-aa18eec2e95d button.colab-df-convert');\n",
              "        buttonEl.style.display =\n",
              "          google.colab.kernel.accessAllowed ? 'block' : 'none';\n",
              "\n",
              "        async function convertToInteractive(key) {\n",
              "          const element = document.querySelector('#df-03edd56a-982b-40ec-b15c-aa18eec2e95d');\n",
              "          const dataTable =\n",
              "            await google.colab.kernel.invokeFunction('convertToInteractive',\n",
              "                                                     [key], {});\n",
              "          if (!dataTable) return;\n",
              "\n",
              "          const docLinkHtml = 'Like what you see? Visit the ' +\n",
              "            '<a target=\"_blank\" href=https://colab.research.google.com/notebooks/data_table.ipynb>data table notebook</a>'\n",
              "            + ' to learn more about interactive tables.';\n",
              "          element.innerHTML = '';\n",
              "          dataTable['output_type'] = 'display_data';\n",
              "          await google.colab.output.renderOutput(dataTable, element);\n",
              "          const docLink = document.createElement('div');\n",
              "          docLink.innerHTML = docLinkHtml;\n",
              "          element.appendChild(docLink);\n",
              "        }\n",
              "      </script>\n",
              "    </div>\n",
              "  </div>\n",
              "  "
            ]
          },
          "metadata": {},
          "execution_count": 9
        }
      ]
    },
    {
      "cell_type": "markdown",
      "source": [
        "The target is the `Fare` column which has the cost of the ticket per flight."
      ],
      "metadata": {
        "id": "eLw1XHwMLwWR"
      }
    },
    {
      "cell_type": "markdown",
      "source": [
        "**Is this a classification or regression problem?**"
      ],
      "metadata": {
        "id": "pojeTlBuL9TC"
      }
    },
    {
      "cell_type": "markdown",
      "source": [
        "This is a regression problem in which we shall predict the cost of a flight ticket using features like `Class`, `Days_left`, `Journey_day`, etc"
      ],
      "metadata": {
        "id": "JpsUDXY9MBqs"
      }
    },
    {
      "cell_type": "markdown",
      "source": [
        "**How many features?**"
      ],
      "metadata": {
        "id": "JaLNSPI9Mo-H"
      }
    },
    {
      "cell_type": "code",
      "source": [
        "df.columns"
      ],
      "metadata": {
        "colab": {
          "base_uri": "https://localhost:8080/"
        },
        "id": "d4dFqPuLMsSU",
        "outputId": "fbec29ef-756e-47f0-bf43-7fdb3ef9344c"
      },
      "execution_count": 10,
      "outputs": [
        {
          "output_type": "execute_result",
          "data": {
            "text/plain": [
              "Index(['Date_of_journey', 'Journey_day', 'Airline', 'Flight_code', 'Class',\n",
              "       'Source', 'Departure', 'Total_stops', 'Arrival', 'Destination',\n",
              "       'Duration_in_hours', 'Days_left', 'Fare'],\n",
              "      dtype='object')"
            ]
          },
          "metadata": {},
          "execution_count": 10
        }
      ]
    },
    {
      "cell_type": "markdown",
      "source": [
        "There are 12 features that are going to impact our modeling of this dataset"
      ],
      "metadata": {
        "id": "d99ZaEtIMxli"
      }
    },
    {
      "cell_type": "markdown",
      "source": [
        "**How many rows of data.**"
      ],
      "metadata": {
        "id": "qo_nIF-8M56U"
      }
    },
    {
      "cell_type": "code",
      "source": [
        "df.shape"
      ],
      "metadata": {
        "colab": {
          "base_uri": "https://localhost:8080/"
        },
        "id": "cLda-G8u2gL5",
        "outputId": "af548b0b-918d-41cd-8264-61e5d8060e9b"
      },
      "execution_count": 11,
      "outputs": [
        {
          "output_type": "execute_result",
          "data": {
            "text/plain": [
              "(452088, 13)"
            ]
          },
          "metadata": {},
          "execution_count": 11
        }
      ]
    },
    {
      "cell_type": "markdown",
      "source": [
        "There are 452088 rows of data. This is clearly a large dataset which is exciting"
      ],
      "metadata": {
        "id": "NlfSK-qbM-vN"
      }
    },
    {
      "cell_type": "markdown",
      "source": [
        "**Foreseeable Challenges**\n",
        "\n",
        "\n",
        "This dataset does not cover variations in aviation fuel prices as this is the one of influencing factor for deciding fare.\n",
        "\n",
        "This dataset only covers flights departing from specific airports and limited to a certain time period"
      ],
      "metadata": {
        "id": "iCgj3GXINfgf"
      }
    },
    {
      "cell_type": "code",
      "source": [],
      "metadata": {
        "id": "AL8yOv_33Dgc"
      },
      "execution_count": null,
      "outputs": []
    }
  ]
}